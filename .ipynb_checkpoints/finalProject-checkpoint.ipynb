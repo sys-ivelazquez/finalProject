{
 "cells": [
  {
   "cell_type": "markdown",
   "id": "5a96b8e0-c70e-4450-99e8-3b8f024efa7a",
   "metadata": {},
   "source": [
    "# Final project\n",
    "\n",
    "**Name:** Silvia Ivonne Velázquez Ramírez\n",
    "\n",
    "**e-mail:** silvia.velazquez7499@alumnos.udg.mx"
   ]
  },
  {
   "cell_type": "markdown",
   "id": "82ba29f0-d3d3-477e-8769-9c7d1f184aee",
   "metadata": {},
   "source": [
    "# Modules"
   ]
  },
  {
   "cell_type": "code",
   "execution_count": 58,
   "id": "49bc4d47-814b-4807-84ba-d93a9548ae56",
   "metadata": {},
   "outputs": [],
   "source": [
    "#Modules here\n",
    "import pandas as pd\n",
    "import plotly.graph_objs as go\n",
    "import dash\n",
    "import dash_core_components as dcc\n",
    "from dash import html\n",
    "from dash.dependencies import Input, Output"
   ]
  },
  {
   "cell_type": "markdown",
   "id": "6acaa016-598d-45bd-baf2-f33746b3737c",
   "metadata": {},
   "source": [
    "# Final project"
   ]
  },
  {
   "cell_type": "code",
   "execution_count": 63,
   "id": "5e289db6-d502-4b19-92c8-2fca604df020",
   "metadata": {},
   "outputs": [
    {
     "data": {
      "text/html": [
       "\n",
       "        <iframe\n",
       "            width=\"100%\"\n",
       "            height=\"650\"\n",
       "            src=\"http://127.0.0.1:8050/\"\n",
       "            frameborder=\"0\"\n",
       "            allowfullscreen\n",
       "            \n",
       "        ></iframe>\n",
       "        "
      ],
      "text/plain": [
       "<IPython.lib.display.IFrame at 0x22678b29860>"
      ]
     },
     "metadata": {},
     "output_type": "display_data"
    }
   ],
   "source": [
    "# Code here\n",
    "# Uploading dataset\n",
    "df = pd.read_csv(\"dataset.csv\", encoding=\"latin1\")\n",
    "\n",
    "# Initializing Dash application\n",
    "app = dash.Dash(__name__)\n",
    "\n",
    "app.layout = html.Div([\n",
    "    html.H1(\"Grades dashboard\"),\n",
    "    \n",
    "    # Filters\n",
    "    html.Label(\"Select the calendar:\"),\n",
    "    dcc.Dropdown(\n",
    "        id='calendar-selector',\n",
    "        options=[{'label': ciclo, 'value': ciclo} for ciclo in sorted(df['CICLO'].unique())],\n",
    "        value=df['CICLO'].unique()[0]\n",
    "    ),\n",
    "\n",
    "    html.Br(), html.Br(),\n",
    "    html.Label(\"Select the subject:\"),\n",
    "    dcc.Dropdown(id='subject-selector'),\n",
    "    \n",
    "    html.Br(), html.Br(),\n",
    "    html.Label(\"Search for a student (by code): \"),\n",
    "    dcc.Input(id='student-search', type='text', placeholder='Enter student code', debounce=True),\n",
    "    \n",
    "    # Graphics\n",
    "    dcc.Graph(id='grades-histogram'),\n",
    "    dcc.Graph(id='category-graph'),\n",
    "    \n",
    "    # Metrics\n",
    "    html.Div(id='grades-metrics')\n",
    "])\n",
    "\n",
    "@app.callback(\n",
    "    Output('subject-selector', 'options'),\n",
    "    [Input('calendar-selector', 'value')]\n",
    ")\n",
    "def update_subject(ciclo):\n",
    "    available_subjects = df[df['CICLO'] == ciclo]['MATERIA'].unique()\n",
    "    return [{'label': materia, 'value': materia} for materia in sorted(available_subjects)]\n",
    "\n",
    "@app.callback(\n",
    "    [Output('grades-histogram', 'figure'),\n",
    "     Output('category-graph', 'figure'),\n",
    "     Output('grades-metrics', 'children')],\n",
    "    [Input('calendar-selector', 'value'),\n",
    "     Input('subject-selector', 'value'),\n",
    "     Input('student-search', 'value')]\n",
    ")\n",
    "def update_dashboard(ciclo, materia, alumno):\n",
    "    df_filter = df[(df['CICLO'] == ciclo) & (df['MATERIA'] == materia)]\n",
    "    \n",
    "    if alumno:\n",
    "        df_filter = df_filter[df_filter['CODIGO'].astype(str) == alumno]\n",
    "    \n",
    "    # Filter numeric grades\n",
    "    df_numeric = df_filter[pd.to_numeric(df_filter['CALIFICACION'], errors='coerce').notna()].copy()\n",
    "    df_numeric['CALIFICACION'] = df_numeric['CALIFICACION'].astype(float)\n",
    "    \n",
    "    # Sorting students\n",
    "    df_numeric = df_numeric.sort_values(by='CALIFICACION', ascending=False).reset_index()\n",
    "    \n",
    "    # Define colors based on grade ranges\n",
    "    colors = ['green' if x >= 80 else 'orange' if x >= 60 else 'red' for x in df_numeric['CALIFICACION']]\n",
    "    \n",
    "    # Grades histogram\n",
    "    fig_hist = go.Figure(data=[\n",
    "        go.Bar(x=df_numeric.index, y=df_numeric['CALIFICACION'], text=df_numeric['CALIFICACION'], textposition='auto', marker_color=colors)\n",
    "    ])\n",
    "    fig_hist.update_layout(title=f'Grades per student ({materia} - {ciclo})', xaxis_title='Student', yaxis_title='Grade')\n",
    "    \n",
    "    # Category grades count\n",
    "    df_category = df_filter[pd.to_numeric(df_filter['CALIFICACION'], errors='coerce').notna()]\n",
    "    category_count = df_category['CALIFICACION'].value_counts().sort_index()\n",
    "    color_category = ['green' if float(x) >= 80 else 'orange' if float(x) >= 60 else 'red' for x in category_count.index]\n",
    "    \n",
    "    fig_cat = go.Figure(data=[\n",
    "        go.Bar(x=category_count.index, y=category_count.values, text=category_count.values, textposition='auto', marker_color=color_category)\n",
    "    ])\n",
    "    fig_cat.update_layout(title='Grades count', xaxis_title='Grade', yaxis_title='Number of students')\n",
    "    \n",
    "    # Metrics\n",
    "    total_students = len(df_filter)\n",
    "    average = df_numeric['CALIFICACION'].mean() if not df_numeric.empty else 'N/A'\n",
    "    metrics = html.Div([\n",
    "        html.P(f'Total of students: {total_students}'),\n",
    "        html.P(f'Grades average: {average:.2f}' if average != 'N/A' else 'Grades average: N/A')\n",
    "    ])\n",
    "    \n",
    "    return fig_hist, fig_cat, metrics\n",
    "\n",
    "if __name__ == '__main__':\n",
    "    app.run_server(debug=True)"
   ]
  },
  {
   "cell_type": "code",
   "execution_count": null,
   "id": "d319ff31-9815-419b-8584-f80cf45105f1",
   "metadata": {},
   "outputs": [],
   "source": []
  },
  {
   "cell_type": "code",
   "execution_count": null,
   "id": "5e3d3ea2-4111-4fd1-99a1-76f637f0e4b7",
   "metadata": {},
   "outputs": [],
   "source": []
  }
 ],
 "metadata": {
  "kernelspec": {
   "display_name": "Python 3 (ipykernel)",
   "language": "python",
   "name": "python3"
  },
  "language_info": {
   "codemirror_mode": {
    "name": "ipython",
    "version": 3
   },
   "file_extension": ".py",
   "mimetype": "text/x-python",
   "name": "python",
   "nbconvert_exporter": "python",
   "pygments_lexer": "ipython3",
   "version": "3.13.2"
  }
 },
 "nbformat": 4,
 "nbformat_minor": 5
}
