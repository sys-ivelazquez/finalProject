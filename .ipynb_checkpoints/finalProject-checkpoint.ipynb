{
 "cells": [
  {
   "cell_type": "markdown",
   "id": "5a96b8e0-c70e-4450-99e8-3b8f024efa7a",
   "metadata": {},
   "source": [
    "# Final project\n",
    "\n",
    "**Name:** Silvia Ivonne Velázquez Ramírez\n",
    "\n",
    "**e-mail:** silvia.velazquez7499@alumnos.udg.mx"
   ]
  },
  {
   "cell_type": "markdown",
   "id": "82ba29f0-d3d3-477e-8769-9c7d1f184aee",
   "metadata": {},
   "source": [
    "# Modules"
   ]
  },
  {
   "cell_type": "code",
   "execution_count": 3,
   "id": "49bc4d47-814b-4807-84ba-d93a9548ae56",
   "metadata": {},
   "outputs": [],
   "source": [
    "#Modules here\n",
    "import pandas as pd\n",
    "import plotly.express as px\n",
    "import ipywidgets as widgets\n",
    "from IPython.display import display"
   ]
  },
  {
   "cell_type": "markdown",
   "id": "6acaa016-598d-45bd-baf2-f33746b3737c",
   "metadata": {},
   "source": [
    "# Final project"
   ]
  },
  {
   "cell_type": "code",
   "execution_count": 4,
   "id": "5e289db6-d502-4b19-92c8-2fca604df020",
   "metadata": {},
   "outputs": [],
   "source": [
    "# Code here\n",
    "#Upload dataset\n",
    "df = pd.read_csv(\"dataset.csv\")\n",
    "\n",
    "#Interactive filters\n",
    "ciclo_selector = widgets.Dropdown(\n",
    "    options=sorted(df['ciclo'].unique()),\n",
    "    description='Ciclo:',\n",
    "    disabled=False\n",
    ")\n",
    "\n",
    "materia_selector = widgets.Dropdown(\n",
    "    options=sorted(df['materia'].unique()),\n",
    "    description='Materia:',\n",
    "    disabled=False\n",
    ")\n",
    "\n",
    "# Updating graphics function\n",
    "def update_graphic(ciclo, materia):\n",
    "    df_filter = df[(df['ciclo'] == ciclo) & (df['materia'] == materia)]\n",
    "    \n",
    "    # It only filters numeric grades (excluding AC, SD, NA)\n",
    "    df_numeric = df_filter[pd.to_numeric(df_filter['calificacion'], errors='coerce').notna()]\n",
    "    df_numeric['calificacion'] = df_numeric['calificacion'].astype(float)\n",
    "    \n",
    "    # Grades distribution graphic\n",
    "    fig = px.histogram(df_numeric, x='calificacion', nbins=10, title=f'Grades distribution in {materia} ({ciclo})')\n",
    "    fig.show()\n",
    "    \n",
    "    # Métricas adicionales\n",
    "    students = len(df_filter)\n",
    "    average = df_numeric['calificacion'].mean() if not df_numeric.empty else 'N/A'\n",
    "    category_count = df_filter['calificacion'].value_counts()\n",
    "    \n",
    "    print(f\"Total number of students: {students}\")\n",
    "    print(f\"Grades average: {average}\")\n",
    "    print(\"Category grades count:\")\n",
    "    print(category_count)\n",
    "\n"
   ]
  },
  {
   "cell_type": "code",
   "execution_count": null,
   "id": "d319ff31-9815-419b-8584-f80cf45105f1",
   "metadata": {},
   "outputs": [],
   "source": []
  }
 ],
 "metadata": {
  "kernelspec": {
   "display_name": "Python 3 (ipykernel)",
   "language": "python",
   "name": "python3"
  },
  "language_info": {
   "codemirror_mode": {
    "name": "ipython",
    "version": 3
   },
   "file_extension": ".py",
   "mimetype": "text/x-python",
   "name": "python",
   "nbconvert_exporter": "python",
   "pygments_lexer": "ipython3",
   "version": "3.13.2"
  }
 },
 "nbformat": 4,
 "nbformat_minor": 5
}
