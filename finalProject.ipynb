{
 "cells": [
  {
   "cell_type": "markdown",
   "id": "5a96b8e0-c70e-4450-99e8-3b8f024efa7a",
   "metadata": {},
   "source": [
    "# Final project\n",
    "\n",
    "**Name:** Silvia Ivonne Velázquez Ramírez\n",
    "\n",
    "**e-mail:** silvia.velazquez7499@alumnos.udg.mx"
   ]
  },
  {
   "cell_type": "markdown",
   "id": "82ba29f0-d3d3-477e-8769-9c7d1f184aee",
   "metadata": {},
   "source": [
    "# Modules"
   ]
  },
  {
   "cell_type": "code",
   "execution_count": 1,
   "id": "49bc4d47-814b-4807-84ba-d93a9548ae56",
   "metadata": {},
   "outputs": [],
   "source": [
    "#Modules here"
   ]
  },
  {
   "cell_type": "markdown",
   "id": "6acaa016-598d-45bd-baf2-f33746b3737c",
   "metadata": {},
   "source": [
    "# Final project"
   ]
  },
  {
   "cell_type": "code",
   "execution_count": 2,
   "id": "5e289db6-d502-4b19-92c8-2fca604df020",
   "metadata": {},
   "outputs": [],
   "source": [
    "# Code here"
   ]
  },
  {
   "cell_type": "code",
   "execution_count": null,
   "id": "d319ff31-9815-419b-8584-f80cf45105f1",
   "metadata": {},
   "outputs": [],
   "source": []
  }
 ],
 "metadata": {
  "kernelspec": {
   "display_name": "Python 3 (ipykernel)",
   "language": "python",
   "name": "python3"
  },
  "language_info": {
   "codemirror_mode": {
    "name": "ipython",
    "version": 3
   },
   "file_extension": ".py",
   "mimetype": "text/x-python",
   "name": "python",
   "nbconvert_exporter": "python",
   "pygments_lexer": "ipython3",
   "version": "3.13.2"
  }
 },
 "nbformat": 4,
 "nbformat_minor": 5
}
