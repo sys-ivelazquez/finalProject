{
 "cells": [
  {
   "cell_type": "markdown",
   "id": "5a96b8e0-c70e-4450-99e8-3b8f024efa7a",
   "metadata": {},
   "source": [
    "# Final project\n",
    "\n",
    "**Name:** Silvia Ivonne Velázquez Ramírez\n",
    "\n",
    "**e-mail:** silvia.velazquez7499@alumnos.udg.mx"
   ]
  },
  {
   "cell_type": "markdown",
   "id": "82ba29f0-d3d3-477e-8769-9c7d1f184aee",
   "metadata": {},
   "source": [
    "# Modules"
   ]
  },
  {
   "cell_type": "code",
   "execution_count": 33,
   "id": "49bc4d47-814b-4807-84ba-d93a9548ae56",
   "metadata": {},
   "outputs": [],
   "source": [
    "#Modules here\n",
    "import pandas as pd\n",
    "import plotly.graph_objs as go\n",
    "import dash\n",
    "import dash_core_components as dcc\n",
    "from dash import html\n",
    "from dash.dependencies import Input, Output"
   ]
  },
  {
   "cell_type": "markdown",
   "id": "6acaa016-598d-45bd-baf2-f33746b3737c",
   "metadata": {},
   "source": [
    "# Final project"
   ]
  },
  {
   "cell_type": "code",
   "execution_count": 34,
   "id": "5e289db6-d502-4b19-92c8-2fca604df020",
   "metadata": {},
   "outputs": [
    {
     "data": {
      "text/html": [
       "\n",
       "        <iframe\n",
       "            width=\"100%\"\n",
       "            height=\"650\"\n",
       "            src=\"http://127.0.0.1:8050/\"\n",
       "            frameborder=\"0\"\n",
       "            allowfullscreen\n",
       "            \n",
       "        ></iframe>\n",
       "        "
      ],
      "text/plain": [
       "<IPython.lib.display.IFrame at 0x226767bdeb0>"
      ]
     },
     "metadata": {},
     "output_type": "display_data"
    }
   ],
   "source": [
    "# Code here\n",
    "# Uploading dataset\n",
    "df = pd.read_csv(\"dataset.csv\", encoding=\"latin1\")\n",
    "\n",
    "# Initializing Dash application\n",
    "app = dash.Dash(__name__)\n",
    "\n",
    "app.layout = html.Div([\n",
    "    html.H1(\"Grades dashboard\"),\n",
    "    \n",
    "    # Filters\n",
    "    html.Label(\"Select the calendar:\"),\n",
    "    dcc.Dropdown(\n",
    "        id='ciclo-selector',\n",
    "        options=[{'label': ciclo, 'value': ciclo} for ciclo in sorted(df['CICLO'].unique())],\n",
    "        value=df['CICLO'].unique()[0]\n",
    "    ),\n",
    "\n",
    "    html.Br(), html.Br(),\n",
    "    html.Label(\"Select the subject:\"),\n",
    "    dcc.Dropdown(\n",
    "        id='materia-selector',\n",
    "        options=[{'label': materia, 'value': materia} for materia in sorted(df['MATERIA'].unique())],\n",
    "        value=df['MATERIA'].unique()[0]\n",
    "    ),\n",
    "    \n",
    "    # Graphics\n",
    "    dcc.Graph(id='histograma-calificaciones'),\n",
    "    dcc.Graph(id='grafico-categorias'),\n",
    "    \n",
    "    # Metrics\n",
    "    html.Div(id='metricas-calificaciones')\n",
    "])\n",
    "\n",
    "@app.callback(\n",
    "    [Output('histograma-calificaciones', 'figure'),\n",
    "     Output('grafico-categorias', 'figure'),\n",
    "     Output('metricas-calificaciones', 'children')],\n",
    "    [Input('ciclo-selector', 'value'),\n",
    "     Input('materia-selector', 'value')]\n",
    ")\n",
    "def actualizar_dashboard(ciclo, materia):\n",
    "    df_filtrado = df[(df['CICLO'] == ciclo) & (df['MATERIA'] == materia)]\n",
    "    \n",
    "    # Filter numeric grades\n",
    "    #df_numerico = df_filtrado[pd.to_numeric(df_filtrado['CALIFICACION'], errors='coerce').notna()]\n",
    "    #df_numerico = df_numerico.copy()\n",
    "    #df_numerico['CALIFICACION'] = df_numerico['CALIFICACION'].astype(float)\n",
    "    df_numerico = df_filtrado[pd.to_numeric(df_filtrado['CALIFICACION'], errors='coerce').notna()].copy()\n",
    "    df_numerico['CALIFICACION'] = df_numerico['CALIFICACION'].astype(float)\n",
    "\n",
    "    # Ordenar alumnos\n",
    "    df_numerico = df_numerico.sort_values(by='CALIFICACION', ascending=False).reset_index()\n",
    "    \n",
    "    # Grades histogram\n",
    "    #fig_hist = go.Figure(data=[go.Histogram(x=df_numerico['CALIFICACION'], nbinsx=10)])\n",
    "    #fig_hist.update_layout(title=f'Distribución de Calificaciones ({materia} - {ciclo})', xaxis_title='Calificación', yaxis_title='Frecuencia')\n",
    "    fig_hist = go.Figure(data=[\n",
    "        go.Bar(x=df_numerico.index, y=df_numerico['CALIFICACION'], text=df_numerico['CALIFICACION'], textposition='auto')\n",
    "    ])\n",
    "    fig_hist.update_layout(title=f'Calificaciones por Alumno ({materia} - {ciclo})', xaxis_title='Alumno', yaxis_title='Calificación')\n",
    "    \n",
    "    # Category grades count\n",
    "    #conteo_categorias = df_filtrado['CALIFICACION'].value_counts()\n",
    "    #fig_cat = go.Figure(data=[go.Bar(x=conteo_categorias.index, y=conteo_categorias.values)])\n",
    "    #fig_cat.update_layout(title='Distribución de Calificaciones Categóricas', xaxis_title='Tipo de Calificación', yaxis_title='Frecuencia')\n",
    "    conteo_categorias = df_filtrado['CALIFICACION'].value_counts().sort_index()\n",
    "    fig_cat = go.Figure(data=[\n",
    "        go.Bar(x=conteo_categorias.index, y=conteo_categorias.values, text=conteo_categorias.values, textposition='auto')\n",
    "    ])\n",
    "    fig_cat.update_layout(title='Frecuencia de Calificaciones', xaxis_title='Calificación', yaxis_title='Número de Alumnos')\n",
    "    \n",
    "    # Metrics\n",
    "    total_alumnos = len(df_filtrado)\n",
    "    promedio = df_numerico['CALIFICACION'].mean() if not df_numerico.empty else 'N/A'\n",
    "    metricas = html.Div([\n",
    "        html.P(f'Total de alumnos: {total_alumnos}'),\n",
    "        html.P(f'Promedio de calificaciones: {promedio:.2f}' if promedio != 'N/A' else 'Promedio de calificaciones: N/A')\n",
    "    ])\n",
    "    \n",
    "    return fig_hist, fig_cat, metricas\n",
    "\n",
    "if __name__ == '__main__':\n",
    "    app.run_server(debug=True)\n",
    "\n",
    "\n"
   ]
  },
  {
   "cell_type": "code",
   "execution_count": null,
   "id": "d319ff31-9815-419b-8584-f80cf45105f1",
   "metadata": {},
   "outputs": [],
   "source": []
  },
  {
   "cell_type": "code",
   "execution_count": null,
   "id": "5e3d3ea2-4111-4fd1-99a1-76f637f0e4b7",
   "metadata": {},
   "outputs": [],
   "source": []
  }
 ],
 "metadata": {
  "kernelspec": {
   "display_name": "Python 3 (ipykernel)",
   "language": "python",
   "name": "python3"
  },
  "language_info": {
   "codemirror_mode": {
    "name": "ipython",
    "version": 3
   },
   "file_extension": ".py",
   "mimetype": "text/x-python",
   "name": "python",
   "nbconvert_exporter": "python",
   "pygments_lexer": "ipython3",
   "version": "3.13.2"
  }
 },
 "nbformat": 4,
 "nbformat_minor": 5
}
